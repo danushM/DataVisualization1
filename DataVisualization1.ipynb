{
 "cells": [
  {
   "cell_type": "markdown",
   "metadata": {},
   "source": [
    "<h1><center>Data Visualization Using Python 1 </center></h1>\n",
    "\n",
    "<h3><center> By </center></h3>\n",
    "<h3><center>Danush Mody</center></h3>\n",
    "<h3><center>Yogendra Mummaneni</center></h3>"
   ]
  },
  {
   "cell_type": "markdown",
   "metadata": {},
   "source": [
    "**This section contains only import statements**"
   ]
  },
  {
   "cell_type": "code",
   "execution_count": 1,
   "metadata": {},
   "outputs": [],
   "source": [
    "import os\n",
    "import urllib.request\n",
    "import csv\n",
    "import pandas as pd"
   ]
  },
  {
   "cell_type": "markdown",
   "metadata": {},
   "source": [
    "## Task 1: Identify one or more suitable web APIs\n",
    "\n",
    "**In this assignment we are collecting earthquake data all over the world for last 5 years (from 2014 to 2018).**\n",
    "\n",
    "***API Chosen:***\n",
    "-  For the purpose of this assignment we have decided to choose a single API provided by: (https://earthquake.usgs.gov)\n",
    "\n",
    "-  This API provides all the earthquakes occured worldwide.\n",
    "\n",
    "-  USGS provides a single API with the ability to modify it using parameters provided in the documentation to suit the needs of the user. The documentation of the API can be found here: (https://earthquake.usgs.gov/fdsnws/event/1/)\n",
    "\n",
    "-  This API does not require any form of API key and can be accessed freely by anyone at anytime.\n",
    "\n",
    "-   The API returns maximum 20000 events, we observed few months have more then 20000 events. So we are collecting data for **15** days at once. \n"
   ]
  },
  {
   "cell_type": "code",
   "execution_count": 2,
   "metadata": {},
   "outputs": [],
   "source": [
    "#Sample URL for the API:\n",
    "sample_url = \"https://earthquake.usgs.gov/fdsnws/event/1/query?format=geojson&starttime=2010-01-01&endtime=2010-01-02\""
   ]
  },
  {
   "cell_type": "markdown",
   "metadata": {},
   "source": [
    "### Task 2: Data Collection:\n",
    "The API used allows for data to fetched in multiple formats some of them are listed below.\n",
    "Data formats:\n",
    "- CSV\n",
    "- JSON\n",
    "- XML\n",
    "- Text\n",
    "- KML\n",
    "\n",
    "However, the JSON format has some discrepancies which causes failures in the code and parsing of the data.\n",
    "To solve this issue we chose to have our data in the CSV format.\n",
    "\n",
    "To do this, we use the parameter \"*format=csv*\" in the API URL.\n",
    "\n",
    "The data collection process is broken down into four functions.\n",
    "Each function can be thought of as a step in the data collection process.\n",
    "\n",
    "**create_file_with_headings()**: This function was deemed necessary as we collect data in CSV, each call to the API generates CSV data with a row of headings and to avoid adding these multiple heading rows to our collated data, we skip the headings row while writing raw data to the file. The purpose of this function is to create a blank file with only the headings present.\n",
    "\n",
    "**formulate_url()**: As the URL for the API call requires a series of parameters such as the start and the end dates for the data that we wish to collect, we need to ensure that the dates provided are correct and all situations such as leap years are accounted for. As we are collecting data for a number of years, multiple calls need to be made which is done with this function. **The data is collected for every 15 days.** It also makes a call to the **data_reader_writer()** function which is described next.\n",
    "\n",
    "**data_reader_writer()**: Once the URL is ready, it is passed to this function which deals with making the API calls as well as reading the data recieved from the call and writing it to the CSV file in the appropriate format. It is important to note that this function *appends* the data to the file with each new call.\n",
    "\n",
    "**remove_blank_lines()**: Finally once the data is written to the file, we need to make sure that there is no empty lines between the data as this signifies a null row or a row with no data for the headings. To this end, this function strips all the blank or empty lines from the file."
   ]
  },
  {
   "cell_type": "code",
   "execution_count": 3,
   "metadata": {},
   "outputs": [],
   "source": [
    "def create_file_with_headings(file_name):\n",
    "    \"\"\"Since each call to the API adds a row of headings to the file, to avoid this\n",
    "        we manually add a header row to the file.\n",
    "    Args:\n",
    "        file_name(str): Name of the file that will be created.\n",
    "    \"\"\"\n",
    "    headings = [\"time\",\"latitude\",\"longitude\",\"depth\",\"mag\",\"magType\",\"nst\",\"gap\",\"dmin\",\"rms\",\"net\",\"id\",\"updated\",\"place\",\"type\",\"horizontalError\",\"depthError\",\"magError\",\"magNst\",\"status\",\"locationSource\",\"magSource\"] \n",
    "    with open(file_name, \"w\",newline='') as write_file: \n",
    "        f = csv.writer(write_file)\n",
    "        f.writerow(headings)\n",
    "    write_file.close()\n",
    "    \n",
    "def formulate_url(file_name):\n",
    "    \"\"\"Forms the complete URL for the API to fetch the data in CSV format.\n",
    "    Args:\n",
    "        file_name(str): Name of the file data is written to in CSV format, this is passed as an argument to data_reader_writer function.\n",
    "    \"\"\"\n",
    "    #Variable for year\n",
    "    start_year=2014 #We are collecting data from 2014\n",
    "    \n",
    "    # Collecting until 2018\n",
    "    while start_year <=2018:\n",
    "        for month in range(1,13):\n",
    "            # Collecting data for every 15 days, once until 15th of every month and once from 15th to end of the month\n",
    "            for start_date in 1,16:\n",
    "                # Finding out start and end dates for first half of the month\n",
    "                if start_date == 1:\n",
    "                    start_time = str(start_year) + '-' + str(month) + '-1'\n",
    "                    end_time = str(start_year) + '-' + str(month) + '-15'\n",
    "                else:\n",
    "                    # Finding out start and end dates for second half of the month\n",
    "                    start_time = str(start_year) + '-' + str(month) + '-16'\n",
    "                    # Find the end date\n",
    "                    #Dealing with leap year situations.\n",
    "                    if month == 2:\n",
    "                        if start_year % 4 == 0:\n",
    "                            end_day = 29\n",
    "                        else:\n",
    "                            end_day = 28\n",
    "                    elif month in [4,6,9,11]:\n",
    "                        end_day = 30\n",
    "                    else:\n",
    "                        end_day = 31            \n",
    "            \n",
    "                    end_time = str(start_year) + '-' + str(month) + '-' + str(end_day)\n",
    "    \n",
    "                #formulating the url for API call.\n",
    "                url_link = \"https://earthquake.usgs.gov/fdsnws/event/1/query?format=csv&starttime=\" + str(start_time) + \"&endtime=\" + str(end_time) + \"&eventtype=earthquake&orderby=time-asc\"\n",
    "            \n",
    "                # Collect data\n",
    "                print(\"Collecting data from ({}) to ({})...\".format(start_time,end_time),end='\\r')\n",
    "                data_reader_writer(url_link, file_name)\n",
    "        start_year+=1\n",
    "            \n",
    "def data_reader_writer(url, file_name):\n",
    "    \"\"\"fetch the data from the link and adds to the file in CSV format.\n",
    "    Args:\n",
    "        url(str): The full path to the API that contains the data.\n",
    "        file_name(str): Name of the file data is written to in CSV format.\n",
    "    \"\"\"\n",
    "    # Fetch the data\n",
    "    response = urllib.request.urlopen(url)\n",
    "    data = response.read().decode(\"ISO-8859-1\")\n",
    "    cr = csv.reader(data.strip().splitlines())\n",
    "    next(cr) #this line is used to skip the first line of each call which contains headers since the data is gathered in CSV format.\n",
    "    \n",
    "    #open the file and write data to it.\n",
    "    with open(file_name, \"a\") as write_file:\n",
    "        f = csv.writer(write_file)\n",
    "        for row in cr:\n",
    "            f.writerow(row)\n",
    "            #print(\"Appending line to the file...\")\n",
    "    write_file.close()\n",
    "       \n",
    "def remove_blank_lines(file_name):\n",
    "    \"\"\"remove blank lines from the file.\n",
    "    Args:\n",
    "        file_name(str): Name of the file that will be created.\n",
    "    \"\"\"\n",
    "    df = pd.read_csv(file_name)\n",
    "    df.to_csv(file_name, index=False)"
   ]
  },
  {
   "cell_type": "markdown",
   "metadata": {},
   "source": [
    "### Task 3: Data Parsing\n",
    "The calls to the functions above are made in this section. \n",
    "It ensures that the appropriate functions are called and that the data is saved in the correct format.\n",
    "The format used is CSV.\n",
    "\n",
    "There are also some *print* statements to give an idea of what part of the code is being executed."
   ]
  },
  {
   "cell_type": "code",
   "execution_count": 4,
   "metadata": {
    "scrolled": true
   },
   "outputs": [
    {
     "name": "stdout",
     "output_type": "stream",
     "text": [
      "Commencing data collection...\n",
      "\n",
      "Checking if a file with the same name exists...\n",
      "File with same name found. Deleting file...\n",
      "File deleted!!\n",
      "\n",
      "Adding headings to the file...\n",
      "Headings added!!\n",
      "\n",
      "Formulating URLs and writing data to the file...\n",
      "This may take a while (up to 30 mins...)\n",
      "Collecting data from (2018-12-16) to (2018-12-31)...\n",
      "Removing blank lines from the file...\n",
      "Blank lines removed!!\n",
      "Data collection completed successfully!!\n"
     ]
    }
   ],
   "source": [
    "# Name of the file that contains raw data in CSV format.\n",
    "raw_file = \"raw_earthquake_data.csv\"\n",
    "\n",
    "print(\"Commencing data collection...\\n\")\n",
    "\n",
    "print (\"Checking if a file with the same name exists...\")\n",
    "# Perform a check to see if the file exists. If so delete it.\n",
    "if os.path.exists(raw_file):\n",
    "    print(\"File with same name found. Deleting file...\")\n",
    "    os.remove(raw_file)\n",
    "    print(\"File deleted!!\\n\")\n",
    "\n",
    "# We do this because for each API call a row of headings is added to the file as well which we do not want.\n",
    "print(\"Adding headings to the file...\")\n",
    "create_file_with_headings(raw_file)\n",
    "print(\"Headings added!!\\n\")\n",
    "\n",
    "# Calling the formulate_url(). \n",
    "# This function has a call to the data_reader_writer so there is no need to call the function seperately.\n",
    "print(\"Formulating URLs and writing data to the file...\")\n",
    "print(\"This may take a while (up to 30 mins...)\")\n",
    "formulate_url(raw_file)\n",
    "print(\"\")\n",
    "\n",
    "# Call remove_blank_lines() to strip the file of unnecessary blank lines.\n",
    "print(\"Removing blank lines from the file...\")\n",
    "remove_blank_lines(raw_file)\n",
    "print(\"Blank lines removed!!\")\n",
    "\n",
    "print(\"Data collection completed successfully!!\")"
   ]
  },
  {
   "cell_type": "markdown",
   "metadata": {},
   "source": [
    "### Task 4: Data Cleaning\n",
    "\n",
    "In this section, we carry out the tasks of data cleaning. With respect to the data collected, this consists of:\n",
    "-  Filtering out the unnecessary columns\n",
    "-  Removing any duplicate values from the file\n",
    "-  Handling of missing values\n",
    "\n",
    "Each of the steps is carried out below."
   ]
  },
  {
   "cell_type": "markdown",
   "metadata": {},
   "source": [
    "#### Filtering out the unnecessary columns and choose only few useful columns"
   ]
  },
  {
   "cell_type": "code",
   "execution_count": 5,
   "metadata": {},
   "outputs": [
    {
     "name": "stdout",
     "output_type": "stream",
     "text": [
      "Reading raw data from CSV file...\n",
      "Read complete!!\n",
      "\n",
      "Filtering unnecessary columns...\n",
      "Filter complete! Sample data below:\n",
      "\n"
     ]
    },
    {
     "data": {
      "text/html": [
       "<div>\n",
       "<style scoped>\n",
       "    .dataframe tbody tr th:only-of-type {\n",
       "        vertical-align: middle;\n",
       "    }\n",
       "\n",
       "    .dataframe tbody tr th {\n",
       "        vertical-align: top;\n",
       "    }\n",
       "\n",
       "    .dataframe thead th {\n",
       "        text-align: right;\n",
       "    }\n",
       "</style>\n",
       "<table border=\"1\" class=\"dataframe\">\n",
       "  <thead>\n",
       "    <tr style=\"text-align: right;\">\n",
       "      <th></th>\n",
       "      <th>time</th>\n",
       "      <th>latitude</th>\n",
       "      <th>longitude</th>\n",
       "      <th>depth</th>\n",
       "      <th>mag</th>\n",
       "      <th>place</th>\n",
       "      <th>locationSource</th>\n",
       "    </tr>\n",
       "  </thead>\n",
       "  <tbody>\n",
       "    <tr>\n",
       "      <th>0</th>\n",
       "      <td>2014-01-01T00:01:16.610Z</td>\n",
       "      <td>19.086800</td>\n",
       "      <td>120.2389</td>\n",
       "      <td>10.07</td>\n",
       "      <td>5.10</td>\n",
       "      <td>76km NNW of Davila, Philippines</td>\n",
       "      <td>us</td>\n",
       "    </tr>\n",
       "    <tr>\n",
       "      <th>1</th>\n",
       "      <td>2014-01-01T00:05:28.830Z</td>\n",
       "      <td>-18.496500</td>\n",
       "      <td>-175.5282</td>\n",
       "      <td>217.90</td>\n",
       "      <td>4.50</td>\n",
       "      <td>163km W of Neiafu, Tonga</td>\n",
       "      <td>us</td>\n",
       "    </tr>\n",
       "    <tr>\n",
       "      <th>2</th>\n",
       "      <td>2014-01-01T00:10:10.970Z</td>\n",
       "      <td>38.821667</td>\n",
       "      <td>-122.8435</td>\n",
       "      <td>2.14</td>\n",
       "      <td>0.57</td>\n",
       "      <td>9km WNW of The Geysers, California</td>\n",
       "      <td>nc</td>\n",
       "    </tr>\n",
       "    <tr>\n",
       "      <th>3</th>\n",
       "      <td>2014-01-01T00:24:43.000Z</td>\n",
       "      <td>60.087200</td>\n",
       "      <td>-153.0184</td>\n",
       "      <td>105.80</td>\n",
       "      <td>2.00</td>\n",
       "      <td>46km SSW of Redoubt Volcano, Alaska</td>\n",
       "      <td>ak</td>\n",
       "    </tr>\n",
       "    <tr>\n",
       "      <th>4</th>\n",
       "      <td>2014-01-01T00:36:30.200Z</td>\n",
       "      <td>19.324700</td>\n",
       "      <td>-155.0353</td>\n",
       "      <td>1.90</td>\n",
       "      <td>2.10</td>\n",
       "      <td>20km SW of Leilani Estates, Hawaii</td>\n",
       "      <td>hv</td>\n",
       "    </tr>\n",
       "  </tbody>\n",
       "</table>\n",
       "</div>"
      ],
      "text/plain": [
       "                       time   latitude  longitude   depth   mag  \\\n",
       "0  2014-01-01T00:01:16.610Z  19.086800   120.2389   10.07  5.10   \n",
       "1  2014-01-01T00:05:28.830Z -18.496500  -175.5282  217.90  4.50   \n",
       "2  2014-01-01T00:10:10.970Z  38.821667  -122.8435    2.14  0.57   \n",
       "3  2014-01-01T00:24:43.000Z  60.087200  -153.0184  105.80  2.00   \n",
       "4  2014-01-01T00:36:30.200Z  19.324700  -155.0353    1.90  2.10   \n",
       "\n",
       "                                 place locationSource  \n",
       "0      76km NNW of Davila, Philippines             us  \n",
       "1             163km W of Neiafu, Tonga             us  \n",
       "2   9km WNW of The Geysers, California             nc  \n",
       "3  46km SSW of Redoubt Volcano, Alaska             ak  \n",
       "4   20km SW of Leilani Estates, Hawaii             hv  "
      ]
     },
     "execution_count": 5,
     "metadata": {},
     "output_type": "execute_result"
    }
   ],
   "source": [
    "# Select few useful columns\n",
    "cleaned_data_file = \"cleaned_data.csv\"\n",
    "\n",
    "print(\"Reading raw data from CSV file...\")\n",
    "data = pd.read_csv(\"raw_earthquake_data.csv\")\n",
    "print(\"Read complete!!\\n\")\n",
    "\n",
    "# Select only the required columns.\n",
    "print(\"Filtering unnecessary columns...\")\n",
    "filtered_data = data[['time','latitude','longitude','depth','mag','place','locationSource']]\n",
    "print(\"Filter complete! Sample data below:\\n\")\n",
    "# Print sample data before updating time field\n",
    "filtered_data.head()"
   ]
  },
  {
   "cell_type": "markdown",
   "metadata": {},
   "source": [
    "#### Renaming and modifying time column.\n",
    "We want the column time to be in a simplified format i.e. it should only contain the time of the occurrence of the earthquake.\n",
    "To this end, we change the format of the column and rename it, givmg it a more suitable name.\n"
   ]
  },
  {
   "cell_type": "code",
   "execution_count": 6,
   "metadata": {},
   "outputs": [
    {
     "name": "stdout",
     "output_type": "stream",
     "text": [
      "Modifying the time column...\n",
      "Creating new file with the selected columns...\n",
      "\n",
      "Sample data below after updating the time field:\n"
     ]
    },
    {
     "data": {
      "text/html": [
       "<div>\n",
       "<style scoped>\n",
       "    .dataframe tbody tr th:only-of-type {\n",
       "        vertical-align: middle;\n",
       "    }\n",
       "\n",
       "    .dataframe tbody tr th {\n",
       "        vertical-align: top;\n",
       "    }\n",
       "\n",
       "    .dataframe thead th {\n",
       "        text-align: right;\n",
       "    }\n",
       "</style>\n",
       "<table border=\"1\" class=\"dataframe\">\n",
       "  <thead>\n",
       "    <tr style=\"text-align: right;\">\n",
       "      <th></th>\n",
       "      <th>date</th>\n",
       "      <th>latitude</th>\n",
       "      <th>longitude</th>\n",
       "      <th>depth</th>\n",
       "      <th>mag</th>\n",
       "      <th>place</th>\n",
       "      <th>locationSource</th>\n",
       "    </tr>\n",
       "  </thead>\n",
       "  <tbody>\n",
       "    <tr>\n",
       "      <th>0</th>\n",
       "      <td>2014-01-01</td>\n",
       "      <td>19.086800</td>\n",
       "      <td>120.2389</td>\n",
       "      <td>10.07</td>\n",
       "      <td>5.10</td>\n",
       "      <td>76km NNW of Davila, Philippines</td>\n",
       "      <td>us</td>\n",
       "    </tr>\n",
       "    <tr>\n",
       "      <th>1</th>\n",
       "      <td>2014-01-01</td>\n",
       "      <td>-18.496500</td>\n",
       "      <td>-175.5282</td>\n",
       "      <td>217.90</td>\n",
       "      <td>4.50</td>\n",
       "      <td>163km W of Neiafu, Tonga</td>\n",
       "      <td>us</td>\n",
       "    </tr>\n",
       "    <tr>\n",
       "      <th>2</th>\n",
       "      <td>2014-01-01</td>\n",
       "      <td>38.821667</td>\n",
       "      <td>-122.8435</td>\n",
       "      <td>2.14</td>\n",
       "      <td>0.57</td>\n",
       "      <td>9km WNW of The Geysers, California</td>\n",
       "      <td>nc</td>\n",
       "    </tr>\n",
       "    <tr>\n",
       "      <th>3</th>\n",
       "      <td>2014-01-01</td>\n",
       "      <td>60.087200</td>\n",
       "      <td>-153.0184</td>\n",
       "      <td>105.80</td>\n",
       "      <td>2.00</td>\n",
       "      <td>46km SSW of Redoubt Volcano, Alaska</td>\n",
       "      <td>ak</td>\n",
       "    </tr>\n",
       "    <tr>\n",
       "      <th>4</th>\n",
       "      <td>2014-01-01</td>\n",
       "      <td>19.324700</td>\n",
       "      <td>-155.0353</td>\n",
       "      <td>1.90</td>\n",
       "      <td>2.10</td>\n",
       "      <td>20km SW of Leilani Estates, Hawaii</td>\n",
       "      <td>hv</td>\n",
       "    </tr>\n",
       "  </tbody>\n",
       "</table>\n",
       "</div>"
      ],
      "text/plain": [
       "        date   latitude  longitude   depth   mag  \\\n",
       "0 2014-01-01  19.086800   120.2389   10.07  5.10   \n",
       "1 2014-01-01 -18.496500  -175.5282  217.90  4.50   \n",
       "2 2014-01-01  38.821667  -122.8435    2.14  0.57   \n",
       "3 2014-01-01  60.087200  -153.0184  105.80  2.00   \n",
       "4 2014-01-01  19.324700  -155.0353    1.90  2.10   \n",
       "\n",
       "                                 place locationSource  \n",
       "0      76km NNW of Davila, Philippines             us  \n",
       "1             163km W of Neiafu, Tonga             us  \n",
       "2   9km WNW of The Geysers, California             nc  \n",
       "3  46km SSW of Redoubt Volcano, Alaska             ak  \n",
       "4   20km SW of Leilani Estates, Hawaii             hv  "
      ]
     },
     "execution_count": 6,
     "metadata": {},
     "output_type": "execute_result"
    }
   ],
   "source": [
    "pd.options.mode.chained_assignment = None\n",
    "\n",
    "print(\"Modifying the time column...\")\n",
    "# Modifying the time column.\n",
    "filtered_data['time'] = filtered_data['time'].astype('datetime64[D]')\n",
    "\n",
    "# Rename the time column as date\n",
    "filtered_data.rename(columns={'time': 'date'}, inplace=True)\n",
    "\n",
    "# Delete the file if already exists to prevent data corruption.\n",
    "if os.path.exists(cleaned_data_file):\n",
    "    print(\"A file with the same name was found. Deleting the file before write of modified data...\")\n",
    "    os.remove(cleaned_data_file)\n",
    "    print(\"File deleted!!\\n\")\n",
    "\n",
    "# Rewrite the modified data to the file.\n",
    "print(\"Creating new file with the selected columns...\\n\")\n",
    "filtered_data.to_csv(cleaned_data_file,index=False)\n",
    "\n",
    "# Print sample data after updating time field\n",
    "print(\"Sample data below after updating the time field:\")\n",
    "filtered_data.head()"
   ]
  },
  {
   "cell_type": "markdown",
   "metadata": {},
   "source": [
    "**Checking and removing duplicate values from the data:**"
   ]
  },
  {
   "cell_type": "code",
   "execution_count": 7,
   "metadata": {},
   "outputs": [
    {
     "data": {
      "text/plain": [
       "True"
      ]
     },
     "execution_count": 7,
     "metadata": {},
     "output_type": "execute_result"
    }
   ],
   "source": [
    "# Checking for duplicate values\n",
    "filtered_data.duplicated().any()"
   ]
  },
  {
   "cell_type": "code",
   "execution_count": 8,
   "metadata": {},
   "outputs": [
    {
     "data": {
      "text/plain": [
       "False"
      ]
     },
     "execution_count": 8,
     "metadata": {},
     "output_type": "execute_result"
    }
   ],
   "source": [
    "# Removing duplicates\n",
    "filtered_data.drop_duplicates(inplace=True)\n",
    "\n",
    "# Re-checking for duplicate values\n",
    "filtered_data.duplicated().any()"
   ]
  },
  {
   "cell_type": "markdown",
   "metadata": {},
   "source": [
    "#### Handling of missing values:\n",
    "On performing a check for missing values, we found that the magnitude column has data missing in certain places.\n",
    "To deal with this issue, it was decided upon to replace the missing values of the magnitude field with the mean of the data in the magnitude filed."
   ]
  },
  {
   "cell_type": "code",
   "execution_count": 9,
   "metadata": {},
   "outputs": [
    {
     "data": {
      "text/plain": [
       "date              False\n",
       "latitude          False\n",
       "longitude         False\n",
       "depth             False\n",
       "mag                True\n",
       "place             False\n",
       "locationSource    False\n",
       "dtype: bool"
      ]
     },
     "execution_count": 9,
     "metadata": {},
     "output_type": "execute_result"
    }
   ],
   "source": [
    "# Checming if any columns have missing data. Columns with missing data will show True next to their names.\n",
    "filtered_data.isnull().any()"
   ]
  },
  {
   "cell_type": "code",
   "execution_count": 10,
   "metadata": {},
   "outputs": [
    {
     "name": "stdout",
     "output_type": "stream",
     "text": [
      "Replacing missing values and writing to file...\n",
      "\n",
      "Write completed!!\n",
      "\n"
     ]
    }
   ],
   "source": [
    "# Calculating the mean of the magnitude and replacing missing values with said mean.\n",
    "mag_mean = filtered_data['mag'].mean()\n",
    "\n",
    "print(\"Replacing missing values and writing to file...\\n\")\n",
    "filtered_data.fillna({'mag':mag_mean}, inplace=True)\n",
    "filtered_data.to_csv(cleaned_data_file, index=False)\n",
    "print(\"Write completed!!\\n\")"
   ]
  },
  {
   "cell_type": "code",
   "execution_count": 11,
   "metadata": {},
   "outputs": [
    {
     "data": {
      "text/plain": [
       "date              False\n",
       "latitude          False\n",
       "longitude         False\n",
       "depth             False\n",
       "mag               False\n",
       "place             False\n",
       "locationSource    False\n",
       "dtype: bool"
      ]
     },
     "execution_count": 11,
     "metadata": {},
     "output_type": "execute_result"
    }
   ],
   "source": [
    "# Confirm if no more missiing data exist\n",
    "filtered_data.isnull().any()"
   ]
  },
  {
   "cell_type": "markdown",
   "metadata": {},
   "source": [
    "### Grouping the data"
   ]
  },
  {
   "cell_type": "markdown",
   "metadata": {},
   "source": [
    "#### Counting total number of earthquakes per year"
   ]
  },
  {
   "cell_type": "code",
   "execution_count": 12,
   "metadata": {},
   "outputs": [
    {
     "name": "stdout",
     "output_type": "stream",
     "text": [
      "Counting total number of earthquakes per year...\n"
     ]
    },
    {
     "data": {
      "text/html": [
       "<div>\n",
       "<style scoped>\n",
       "    .dataframe tbody tr th:only-of-type {\n",
       "        vertical-align: middle;\n",
       "    }\n",
       "\n",
       "    .dataframe tbody tr th {\n",
       "        vertical-align: top;\n",
       "    }\n",
       "\n",
       "    .dataframe thead th {\n",
       "        text-align: right;\n",
       "    }\n",
       "</style>\n",
       "<table border=\"1\" class=\"dataframe\">\n",
       "  <thead>\n",
       "    <tr style=\"text-align: right;\">\n",
       "      <th></th>\n",
       "      <th>count</th>\n",
       "    </tr>\n",
       "    <tr>\n",
       "      <th>date</th>\n",
       "      <th></th>\n",
       "    </tr>\n",
       "  </thead>\n",
       "  <tbody>\n",
       "    <tr>\n",
       "      <th>2014</th>\n",
       "      <td>122430</td>\n",
       "    </tr>\n",
       "    <tr>\n",
       "      <th>2015</th>\n",
       "      <td>116090</td>\n",
       "    </tr>\n",
       "    <tr>\n",
       "      <th>2016</th>\n",
       "      <td>114967</td>\n",
       "    </tr>\n",
       "    <tr>\n",
       "      <th>2017</th>\n",
       "      <td>119870</td>\n",
       "    </tr>\n",
       "    <tr>\n",
       "      <th>2018</th>\n",
       "      <td>168373</td>\n",
       "    </tr>\n",
       "  </tbody>\n",
       "</table>\n",
       "</div>"
      ],
      "text/plain": [
       "       count\n",
       "date        \n",
       "2014  122430\n",
       "2015  116090\n",
       "2016  114967\n",
       "2017  119870\n",
       "2018  168373"
      ]
     },
     "execution_count": 12,
     "metadata": {},
     "output_type": "execute_result"
    }
   ],
   "source": [
    "# Calculating the total number of earthquakes each year\n",
    "print(\"Counting total number of earthquakes per year...\")\n",
    "yearly_quake_count = filtered_data.groupby(filtered_data['date'].dt.year)['mag'].agg(['count'])\n",
    "yearly_quake_count"
   ]
  },
  {
   "cell_type": "markdown",
   "metadata": {},
   "source": [
    "#### Counting total number of earthquakes per month"
   ]
  },
  {
   "cell_type": "code",
   "execution_count": 13,
   "metadata": {
    "scrolled": true
   },
   "outputs": [
    {
     "name": "stdout",
     "output_type": "stream",
     "text": [
      "Counting total number of earthquakes per month...\n"
     ]
    },
    {
     "data": {
      "text/html": [
       "<div>\n",
       "<style scoped>\n",
       "    .dataframe tbody tr th:only-of-type {\n",
       "        vertical-align: middle;\n",
       "    }\n",
       "\n",
       "    .dataframe tbody tr th {\n",
       "        vertical-align: top;\n",
       "    }\n",
       "\n",
       "    .dataframe thead th {\n",
       "        text-align: right;\n",
       "    }\n",
       "</style>\n",
       "<table border=\"1\" class=\"dataframe\">\n",
       "  <thead>\n",
       "    <tr style=\"text-align: right;\">\n",
       "      <th></th>\n",
       "      <th>mag</th>\n",
       "    </tr>\n",
       "    <tr>\n",
       "      <th>date</th>\n",
       "      <th></th>\n",
       "    </tr>\n",
       "  </thead>\n",
       "  <tbody>\n",
       "    <tr>\n",
       "      <th>2014-01-31</th>\n",
       "      <td>10538</td>\n",
       "    </tr>\n",
       "    <tr>\n",
       "      <th>2014-02-28</th>\n",
       "      <td>9489</td>\n",
       "    </tr>\n",
       "    <tr>\n",
       "      <th>2014-03-31</th>\n",
       "      <td>9646</td>\n",
       "    </tr>\n",
       "    <tr>\n",
       "      <th>2014-04-30</th>\n",
       "      <td>10370</td>\n",
       "    </tr>\n",
       "    <tr>\n",
       "      <th>2014-05-31</th>\n",
       "      <td>9871</td>\n",
       "    </tr>\n",
       "  </tbody>\n",
       "</table>\n",
       "</div>"
      ],
      "text/plain": [
       "              mag\n",
       "date             \n",
       "2014-01-31  10538\n",
       "2014-02-28   9489\n",
       "2014-03-31   9646\n",
       "2014-04-30  10370\n",
       "2014-05-31   9871"
      ]
     },
     "execution_count": 13,
     "metadata": {},
     "output_type": "execute_result"
    }
   ],
   "source": [
    "# Reducing the dataframe to only date and magnitude\n",
    "reduced_dataframe = filtered_data[[\"date\",\"mag\"]]\n",
    "\n",
    "# Calculating the number of eartquakes per month.\n",
    "print(\"Counting total number of earthquakes per month...\")\n",
    "monthly_quake_data = reduced_dataframe.groupby([pd.Grouper(key='date',freq='M')])\n",
    "monthly_quake_count = monthly_quake_data.count()\n",
    "monthly_quake_count.head()"
   ]
  },
  {
   "cell_type": "markdown",
   "metadata": {},
   "source": [
    "#### Counting total number of earthquakes per location"
   ]
  },
  {
   "cell_type": "code",
   "execution_count": 14,
   "metadata": {},
   "outputs": [
    {
     "data": {
      "text/html": [
       "<div>\n",
       "<style scoped>\n",
       "    .dataframe tbody tr th:only-of-type {\n",
       "        vertical-align: middle;\n",
       "    }\n",
       "\n",
       "    .dataframe tbody tr th {\n",
       "        vertical-align: top;\n",
       "    }\n",
       "\n",
       "    .dataframe thead th {\n",
       "        text-align: right;\n",
       "    }\n",
       "</style>\n",
       "<table border=\"1\" class=\"dataframe\">\n",
       "  <thead>\n",
       "    <tr style=\"text-align: right;\">\n",
       "      <th></th>\n",
       "      <th>count</th>\n",
       "    </tr>\n",
       "    <tr>\n",
       "      <th>locationSource</th>\n",
       "      <th></th>\n",
       "    </tr>\n",
       "  </thead>\n",
       "  <tbody>\n",
       "    <tr>\n",
       "      <th>ak</th>\n",
       "      <td>172147</td>\n",
       "    </tr>\n",
       "    <tr>\n",
       "      <th>nc</th>\n",
       "      <td>120001</td>\n",
       "    </tr>\n",
       "    <tr>\n",
       "      <th>us</th>\n",
       "      <td>80638</td>\n",
       "    </tr>\n",
       "    <tr>\n",
       "      <th>ci</th>\n",
       "      <td>74787</td>\n",
       "    </tr>\n",
       "    <tr>\n",
       "      <th>nn</th>\n",
       "      <td>65138</td>\n",
       "    </tr>\n",
       "    <tr>\n",
       "      <th>hv</th>\n",
       "      <td>52420</td>\n",
       "    </tr>\n",
       "    <tr>\n",
       "      <th>pr</th>\n",
       "      <td>16000</td>\n",
       "    </tr>\n",
       "    <tr>\n",
       "      <th>uu</th>\n",
       "      <td>15311</td>\n",
       "    </tr>\n",
       "    <tr>\n",
       "      <th>uw</th>\n",
       "      <td>12269</td>\n",
       "    </tr>\n",
       "    <tr>\n",
       "      <th>mb</th>\n",
       "      <td>8952</td>\n",
       "    </tr>\n",
       "  </tbody>\n",
       "</table>\n",
       "</div>"
      ],
      "text/plain": [
       "                 count\n",
       "locationSource        \n",
       "ak              172147\n",
       "nc              120001\n",
       "us               80638\n",
       "ci               74787\n",
       "nn               65138\n",
       "hv               52420\n",
       "pr               16000\n",
       "uu               15311\n",
       "uw               12269\n",
       "mb                8952"
      ]
     },
     "execution_count": 14,
     "metadata": {},
     "output_type": "execute_result"
    }
   ],
   "source": [
    "# Creating a new reduced dataframe that contains earthquake source information as well.\n",
    "#simplified_data = filtered_data[[\"mag\", \"depth\", \"locationSource\"]]\n",
    "\n",
    "# Grouping the earthqaukes by their source.\n",
    "location_quake_data = filtered_data.groupby(filtered_data['locationSource'])['mag'].agg(['count'])\n",
    "\n",
    "# Counting the earthquakes originating from each source and sorting them in descending order.\n",
    "location_quake_count = location_quake_data.sort_values('count', ascending=False)\n",
    "\n",
    "# Selecting the top 10 most earthquake prone sources.\n",
    "location_quake_count = location_quake_count.head(10)\n",
    "location_quake_count"
   ]
  },
  {
   "cell_type": "markdown",
   "metadata": {},
   "source": [
    "#### Calculating average magiture and depth per year."
   ]
  },
  {
   "cell_type": "code",
   "execution_count": 15,
   "metadata": {},
   "outputs": [
    {
     "data": {
      "text/html": [
       "<div>\n",
       "<style scoped>\n",
       "    .dataframe tbody tr th:only-of-type {\n",
       "        vertical-align: middle;\n",
       "    }\n",
       "\n",
       "    .dataframe tbody tr th {\n",
       "        vertical-align: top;\n",
       "    }\n",
       "\n",
       "    .dataframe thead tr th {\n",
       "        text-align: left;\n",
       "    }\n",
       "\n",
       "    .dataframe thead tr:last-of-type th {\n",
       "        text-align: right;\n",
       "    }\n",
       "</style>\n",
       "<table border=\"1\" class=\"dataframe\">\n",
       "  <thead>\n",
       "    <tr>\n",
       "      <th></th>\n",
       "      <th>mag</th>\n",
       "      <th>depth</th>\n",
       "    </tr>\n",
       "    <tr>\n",
       "      <th></th>\n",
       "      <th>mean</th>\n",
       "      <th>mean</th>\n",
       "    </tr>\n",
       "    <tr>\n",
       "      <th>date</th>\n",
       "      <th></th>\n",
       "      <th></th>\n",
       "    </tr>\n",
       "  </thead>\n",
       "  <tbody>\n",
       "    <tr>\n",
       "      <th>2014</th>\n",
       "      <td>1.635422</td>\n",
       "      <td>26.036111</td>\n",
       "    </tr>\n",
       "    <tr>\n",
       "      <th>2015</th>\n",
       "      <td>1.680449</td>\n",
       "      <td>27.109553</td>\n",
       "    </tr>\n",
       "    <tr>\n",
       "      <th>2016</th>\n",
       "      <td>1.662927</td>\n",
       "      <td>28.332036</td>\n",
       "    </tr>\n",
       "    <tr>\n",
       "      <th>2017</th>\n",
       "      <td>1.574372</td>\n",
       "      <td>25.565914</td>\n",
       "    </tr>\n",
       "    <tr>\n",
       "      <th>2018</th>\n",
       "      <td>1.787266</td>\n",
       "      <td>21.185960</td>\n",
       "    </tr>\n",
       "  </tbody>\n",
       "</table>\n",
       "</div>"
      ],
      "text/plain": [
       "           mag      depth\n",
       "          mean       mean\n",
       "date                     \n",
       "2014  1.635422  26.036111\n",
       "2015  1.680449  27.109553\n",
       "2016  1.662927  28.332036\n",
       "2017  1.574372  25.565914\n",
       "2018  1.787266  21.185960"
      ]
     },
     "execution_count": 15,
     "metadata": {},
     "output_type": "execute_result"
    }
   ],
   "source": [
    "# Taking average magnitude and depth per year.\n",
    "average_mag_depth = filtered_data.groupby(filtered_data['date'].dt.year)[['mag', 'depth']].agg(['mean'])\n",
    "average_mag_depth"
   ]
  },
  {
   "cell_type": "markdown",
   "metadata": {},
   "source": [
    "### Task 5: Visulisation"
   ]
  },
  {
   "cell_type": "code",
   "execution_count": 16,
   "metadata": {},
   "outputs": [],
   "source": [
    "import matplotlib\n",
    "import matplotlib.pyplot as plt\n",
    "%matplotlib inline"
   ]
  },
  {
   "cell_type": "code",
   "execution_count": 17,
   "metadata": {
    "scrolled": true
   },
   "outputs": [
    {
     "data": {
      "text/plain": [
       "<Figure size 432x288 with 0 Axes>"
      ]
     },
     "metadata": {},
     "output_type": "display_data"
    },
    {
     "data": {
      "image/png": "[encoded data removed]",
      "text/plain": [
       "<Figure size 432x288 with 1 Axes>"
      ]
     },
     "metadata": {
      "needs_background": "light"
     },
     "output_type": "display_data"
    }
   ],
   "source": [
    "plt.figure()\n",
    "yearly_quake_count.plot()\n",
    "plt.title(\"Number of Earthquakes each year all over the world since 2014\\n\")\n",
    "plt.ylabel(\"Number of Earthquakes\")\n",
    "plt.xlabel(\"Time\")\n",
    "plt.show()"
   ]
  },
  {
   "cell_type": "code",
   "execution_count": 22,
   "metadata": {},
   "outputs": [
    {
     "data": {
      "text/plain": [
       "<Figure size 432x288 with 0 Axes>"
      ]
     },
     "metadata": {},
     "output_type": "display_data"
    },
    {
     "data": {
      "image/png": "[encoded data removed]",
      "text/plain": [
       "<Figure size 432x432 with 2 Axes>"
      ]
     },
     "metadata": {
      "needs_background": "light"
     },
     "output_type": "display_data"
    }
   ],
   "source": [
    "plt.figure()\n",
    "average_mag_depth.plot(subplots=True, figsize=(6, 6));\n",
    "plt.suptitle(\"Average Magnitude and Average Depth of all earthquakes from 2014\\n\")\n",
    "plt.show()"
   ]
  },
  {
   "cell_type": "code",
   "execution_count": 23,
   "metadata": {},
   "outputs": [
    {
     "data": {
      "text/plain": [
       "<Figure size 432x288 with 0 Axes>"
      ]
     },
     "metadata": {},
     "output_type": "display_data"
    },
    {
     "data": {
      "image/png": "[encoded data removed]",
      "text/plain": [
       "<Figure size 432x288 with 1 Axes>"
      ]
     },
     "metadata": {
      "needs_background": "light"
     },
     "output_type": "display_data"
    }
   ],
   "source": [
    "plt.figure()\n",
    "monthly_quake_count.plot()\n",
    "plt.title(\"Number of Earthquakes each month all over the world since 2014\\n\")\n",
    "plt.ylabel(\"Number of Earthquakes\")\n",
    "plt.xlabel(\"Time\")\n",
    "plt.show()"
   ]
  },
  {
   "cell_type": "code",
   "execution_count": 24,
   "metadata": {},
   "outputs": [
    {
     "data": {
      "text/plain": [
       "Text(0.5,1,'Yearly Count of Earthquakes from 2014')"
      ]
     },
     "execution_count": 24,
     "metadata": {},
     "output_type": "execute_result"
    },
    {
     "data": {
      "image/png": "[encoded data removed]",
      "text/plain": [
       "<Figure size 432x288 with 1 Axes>"
      ]
     },
     "metadata": {
      "needs_background": "light"
     },
     "output_type": "display_data"
    }
   ],
   "source": [
    "p = yearly_quake_count[\"count\"].plot.bar()\n",
    "p.set_xlabel(\"Year\")\n",
    "p.set_ylabel(\"Quake Count\")\n",
    "p.set_title(\"Yearly Count of Earthquakes from 2014\")"
   ]
  },
  {
   "cell_type": "code",
   "execution_count": 25,
   "metadata": {},
   "outputs": [
    {
     "data": {
      "text/plain": [
       "Text(0.5,1,'Top 10 Earthquake sources')"
      ]
     },
     "execution_count": 25,
     "metadata": {},
     "output_type": "execute_result"
    },
    {
     "data": {
      "image/png": "[encoded data removed]",
      "text/plain": [
       "<Figure size 720x720 with 1 Axes>"
      ]
     },
     "metadata": {
      "needs_background": "light"
     },
     "output_type": "display_data"
    }
   ],
   "source": [
    "p = location_quake_count[\"count\"].plot.bar(figsize=(10,10))\n",
    "p.set_xlabel(\"Source\")\n",
    "p.set_ylabel(\"Quake Count\")\n",
    "p.set_title(\"Top 10 Earthquake sources\")"
   ]
  },
  {
   "cell_type": "markdown",
   "metadata": {},
   "source": [
    "# Top 10 Largest Earthquakes in the last 5 years."
   ]
  },
  {
   "cell_type": "code",
   "execution_count": 26,
   "metadata": {},
   "outputs": [
    {
     "data": {
      "text/html": [
       "<div>\n",
       "<style scoped>\n",
       "    .dataframe tbody tr th:only-of-type {\n",
       "        vertical-align: middle;\n",
       "    }\n",
       "\n",
       "    .dataframe tbody tr th {\n",
       "        vertical-align: top;\n",
       "    }\n",
       "\n",
       "    .dataframe thead th {\n",
       "        text-align: right;\n",
       "    }\n",
       "</style>\n",
       "<table border=\"1\" class=\"dataframe\">\n",
       "  <thead>\n",
       "    <tr style=\"text-align: right;\">\n",
       "      <th></th>\n",
       "      <th>date</th>\n",
       "      <th>mag</th>\n",
       "      <th>place</th>\n",
       "    </tr>\n",
       "  </thead>\n",
       "  <tbody>\n",
       "    <tr>\n",
       "      <th>206931</th>\n",
       "      <td>2015-09-16</td>\n",
       "      <td>8.3</td>\n",
       "      <td>48km W of Illapel, Chile</td>\n",
       "    </tr>\n",
       "    <tr>\n",
       "      <th>437677</th>\n",
       "      <td>2017-09-08</td>\n",
       "      <td>8.2</td>\n",
       "      <td>101km SSW of Tres Picos, Mexico</td>\n",
       "    </tr>\n",
       "    <tr>\n",
       "      <th>589083</th>\n",
       "      <td>2018-08-19</td>\n",
       "      <td>8.2</td>\n",
       "      <td>286km NNE of Ndoi Island, Fiji</td>\n",
       "    </tr>\n",
       "    <tr>\n",
       "      <th>30035</th>\n",
       "      <td>2014-04-01</td>\n",
       "      <td>8.2</td>\n",
       "      <td>94km NW of Iquique, Chile</td>\n",
       "    </tr>\n",
       "    <tr>\n",
       "      <th>361300</th>\n",
       "      <td>2017-01-22</td>\n",
       "      <td>7.9</td>\n",
       "      <td>35km WNW of Panguna, Papua New Guinea</td>\n",
       "    </tr>\n",
       "    <tr>\n",
       "      <th>348380</th>\n",
       "      <td>2016-12-17</td>\n",
       "      <td>7.9</td>\n",
       "      <td>54km E of Taron, Papua New Guinea</td>\n",
       "    </tr>\n",
       "    <tr>\n",
       "      <th>480742</th>\n",
       "      <td>2018-01-23</td>\n",
       "      <td>7.9</td>\n",
       "      <td>280km SE of Kodiak, Alaska</td>\n",
       "    </tr>\n",
       "    <tr>\n",
       "      <th>57383</th>\n",
       "      <td>2014-06-23</td>\n",
       "      <td>7.9</td>\n",
       "      <td>19km SE of Little Sitkin Island, Alaska</td>\n",
       "    </tr>\n",
       "    <tr>\n",
       "      <th>597461</th>\n",
       "      <td>2018-09-06</td>\n",
       "      <td>7.9</td>\n",
       "      <td>102km ESE of Suva, Fiji</td>\n",
       "    </tr>\n",
       "    <tr>\n",
       "      <th>345508</th>\n",
       "      <td>2016-12-08</td>\n",
       "      <td>7.8</td>\n",
       "      <td>69km WSW of Kirakira, Solomon Islands</td>\n",
       "    </tr>\n",
       "  </tbody>\n",
       "</table>\n",
       "</div>"
      ],
      "text/plain": [
       "             date  mag                                    place\n",
       "206931 2015-09-16  8.3                 48km W of Illapel, Chile\n",
       "437677 2017-09-08  8.2          101km SSW of Tres Picos, Mexico\n",
       "589083 2018-08-19  8.2           286km NNE of Ndoi Island, Fiji\n",
       "30035  2014-04-01  8.2                94km NW of Iquique, Chile\n",
       "361300 2017-01-22  7.9    35km WNW of Panguna, Papua New Guinea\n",
       "348380 2016-12-17  7.9        54km E of Taron, Papua New Guinea\n",
       "480742 2018-01-23  7.9               280km SE of Kodiak, Alaska\n",
       "57383  2014-06-23  7.9  19km SE of Little Sitkin Island, Alaska\n",
       "597461 2018-09-06  7.9                  102km ESE of Suva, Fiji\n",
       "345508 2016-12-08  7.8    69km WSW of Kirakira, Solomon Islands"
      ]
     },
     "execution_count": 26,
     "metadata": {},
     "output_type": "execute_result"
    }
   ],
   "source": [
    "#Finding the Top 10 most powerful Earthquakes\n",
    "top_10 = filtered_data[[\"date\", \"mag\", \"place\"]].sort_values('mag', ascending=False).head(10)\n",
    "top_10"
   ]
  },
  {
   "cell_type": "markdown",
   "metadata": {},
   "source": [
    "## Conclusion\n",
    "\n",
    "-  We have added both a month wise and year wise distribution of earthquakes taking place between 2014 and 2018. We can see that a month wise distribution gives us a better view of the distribution of the number of earthquakes.\n",
    "\n",
    "-  In general, the depth of the earthquake epicenter and the magnitude of the earthquake are inversely related i.e. the deeper the epicenter the lower the intensity of the earthquake. However, after plotting the average depth and the average magnitude of the earthquakes occuring every year, we can see that this rule is not always followed. This may be due to the large number of very very low magnitude of earthqaukes that occur.\n",
    "\n",
    "-  From source location wise plot, we can say North America has the most occurances of earthquakes."
   ]
  }
 ],
 "metadata": {
  "kernelspec": {
   "display_name": "Python 3",
   "language": "python",
   "name": "python3"
  },
  "language_info": {
   "codemirror_mode": {
    "name": "ipython",
    "version": 3
   },
   "file_extension": ".py",
   "mimetype": "text/x-python",
   "name": "python",
   "nbconvert_exporter": "python",
   "pygments_lexer": "ipython3",
   "version": "3.7.0"
  }
 },
 "nbformat": 4,
 "nbformat_minor": 2
}
